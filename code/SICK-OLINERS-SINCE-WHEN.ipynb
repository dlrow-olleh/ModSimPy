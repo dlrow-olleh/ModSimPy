{
 "cells": [
  {
   "cell_type": "markdown",
   "metadata": {},
   "source": [
    "# \"WHY ARE ALL MY STUDENTS SICK?!\" - A model"
   ]
  },
  {
   "cell_type": "code",
   "execution_count": 1,
   "metadata": {},
   "outputs": [],
   "source": [
    "# Configure Jupyter so figures appear in the notebook\n",
    "%matplotlib inline\n",
    "\n",
    "# Configure Jupyter to display the assigned value after an assignment\n",
    "%config InteractiveShell.ast_node_interactivity='last_expr_or_assign'\n",
    "\n",
    "# import functions from the modsim library\n",
    "from modsim import *\n",
    "import random\n",
    "import decimal"
   ]
  },
  {
   "cell_type": "code",
   "execution_count": 2,
   "metadata": {},
   "outputs": [
    {
     "data": {
      "text/html": [
       "<div>\n",
       "<style scoped>\n",
       "    .dataframe tbody tr th:only-of-type {\n",
       "        vertical-align: middle;\n",
       "    }\n",
       "\n",
       "    .dataframe tbody tr th {\n",
       "        vertical-align: top;\n",
       "    }\n",
       "\n",
       "    .dataframe thead th {\n",
       "        text-align: right;\n",
       "    }\n",
       "</style>\n",
       "<table border=\"1\" class=\"dataframe\">\n",
       "  <thead>\n",
       "    <tr style=\"text-align: right;\">\n",
       "      <th></th>\n",
       "      <th>values</th>\n",
       "    </tr>\n",
       "  </thead>\n",
       "  <tbody>\n",
       "    <tr>\n",
       "      <th>s</th>\n",
       "      <td>355</td>\n",
       "    </tr>\n",
       "    <tr>\n",
       "      <th>i</th>\n",
       "      <td>20</td>\n",
       "    </tr>\n",
       "    <tr>\n",
       "      <th>w</th>\n",
       "      <td>5</td>\n",
       "    </tr>\n",
       "    <tr>\n",
       "      <th>r</th>\n",
       "      <td>5</td>\n",
       "    </tr>\n",
       "  </tbody>\n",
       "</table>\n",
       "</div>"
      ],
      "text/plain": [
       "s    355\n",
       "i     20\n",
       "w      5\n",
       "r      5\n",
       "dtype: int64"
      ]
     },
     "execution_count": 2,
     "metadata": {},
     "output_type": "execute_result"
    }
   ],
   "source": [
    "state = State(\n",
    "   s = 355,\n",
    "    i = 20,\n",
    "    w = 5, \n",
    "    r = 5)"
   ]
  },
  {
   "cell_type": "code",
   "execution_count": 3,
   "metadata": {},
   "outputs": [
    {
     "data": {
      "text/html": [
       "<div>\n",
       "<style scoped>\n",
       "    .dataframe tbody tr th:only-of-type {\n",
       "        vertical-align: middle;\n",
       "    }\n",
       "\n",
       "    .dataframe tbody tr th {\n",
       "        vertical-align: top;\n",
       "    }\n",
       "\n",
       "    .dataframe thead th {\n",
       "        text-align: right;\n",
       "    }\n",
       "</style>\n",
       "<table border=\"1\" class=\"dataframe\">\n",
       "  <thead>\n",
       "    <tr style=\"text-align: right;\">\n",
       "      <th></th>\n",
       "      <th>values</th>\n",
       "    </tr>\n",
       "  </thead>\n",
       "  <tbody>\n",
       "    <tr>\n",
       "      <th>infection_rate</th>\n",
       "      <td>0.380</td>\n",
       "    </tr>\n",
       "    <tr>\n",
       "      <th>vaccination_rate</th>\n",
       "      <td>0.100</td>\n",
       "    </tr>\n",
       "    <tr>\n",
       "      <th>reinfection_rate</th>\n",
       "      <td>0.390</td>\n",
       "    </tr>\n",
       "    <tr>\n",
       "      <th>recovery_rate</th>\n",
       "      <td>0.270</td>\n",
       "    </tr>\n",
       "    <tr>\n",
       "      <th>complete_recovery_rate</th>\n",
       "      <td>0.147</td>\n",
       "    </tr>\n",
       "    <tr>\n",
       "      <th>immunity_wearsoff</th>\n",
       "      <td>0.950</td>\n",
       "    </tr>\n",
       "    <tr>\n",
       "      <th>t0</th>\n",
       "      <td>0.000</td>\n",
       "    </tr>\n",
       "    <tr>\n",
       "      <th>t_end</th>\n",
       "      <td>116.000</td>\n",
       "    </tr>\n",
       "    <tr>\n",
       "      <th>dt</th>\n",
       "      <td>1.000</td>\n",
       "    </tr>\n",
       "  </tbody>\n",
       "</table>\n",
       "</div>"
      ],
      "text/plain": [
       "infection_rate              0.380\n",
       "vaccination_rate            0.100\n",
       "reinfection_rate            0.390\n",
       "recovery_rate               0.270\n",
       "complete_recovery_rate      0.147\n",
       "immunity_wearsoff           0.950\n",
       "t0                          0.000\n",
       "t_end                     116.000\n",
       "dt                          1.000\n",
       "dtype: float64"
      ]
     },
     "execution_count": 3,
     "metadata": {},
     "output_type": "execute_result"
    }
   ],
   "source": [
    "system = System(\n",
    "        infection_rate = float(decimal.Decimal(random.randrange(25, 50))/100), #random.randint(0.25,0.5),\n",
    "        vaccination_rate = .1, \n",
    "        reinfection_rate = float(decimal.Decimal(random.randrange(15, 40))/100), #random.randint(0.15,0.4),\n",
    "        recovery_rate = float(decimal.Decimal(random.randrange(10, 30))/100), #random.randint(0.1,0.3),\n",
    "        complete_recovery_rate = float(decimal.Decimal(random.randrange(1, 250))/1000), #random.randint(0.001,0.25), \n",
    "        immunity_wearsoff = float(decimal.Decimal(random.randrange(90,100))/100), #random.randint(0.1,0.5),\n",
    "        t0 = 0 ,\n",
    "        t_end = 116,\n",
    "        dt = 1)\n",
    "\n",
    "  "
   ]
  },
  {
   "cell_type": "code",
   "execution_count": 4,
   "metadata": {},
   "outputs": [],
   "source": [
    "def update_function(state, t, system):\n",
    "\n",
    "    unpack(system)\n",
    "    ds = (-(vaccination_rate) * state.s - (infection_rate)*(state.s-(vaccination_rate * state.s)) + immunity_wearsoff * state.r) \n",
    "    di = ((infection_rate) * (state.s-(vaccination_rate * state.s)) + (reinfection_rate)* (state.w) - (recovery_rate) * state.i) \n",
    "    dw = ((vaccination_rate) * state.s - (complete_recovery_rate) * state.w - (reinfection_rate) * state.w + (recovery_rate) *state.i) \n",
    "    dr = ((complete_recovery_rate) * state.w - immunity_wearsoff * state.r )\n",
    "    \n",
    "    s2 = state.s + ds + state.r + dr\n",
    "    i2 = state.i + di\n",
    "    w2 = state.w + dw\n",
    "    r2 = 0\n",
    "    \n",
    "    state = State(s=s2, i=i2, w=w2, r=r2)\n",
    "    return state\n",
    "    \n",
    "    #infectionrate -> constate based on- > sleep stress weather  \n",
    "    #recovery rate = random value 1/4 chance of recovery on each day if recovery duration is 4 days. "
   ]
  },
  {
   "cell_type": "code",
   "execution_count": 5,
   "metadata": {},
   "outputs": [],
   "source": [
    "def run_simulation(system, update):\n",
    "    \"\"\"Runs a simulation of the system.\n",
    "        \n",
    "    system: System object\n",
    "    update_func: function that updates state\n",
    "    \n",
    "    returns: TimeFrame\n",
    "    \"\"\"\n",
    "    unpack(system)\n",
    "    \n",
    "    frame = TimeFrame(columns=state.index)\n",
    "    frame.row[t0] = state\n",
    "    \n",
    "    for t in linrange(t0, t_end, dt):\n",
    "        frame.row[t+dt] = update(frame.row[t], t, system)\n",
    "#         system = System(\n",
    "#         infection_rate = float(decimal.Decimal(random.randrange(25, 50))/100), #random.randint(0.25,0.5),\n",
    "#         vaccination_rate = .1, \n",
    "#         reinfection_rate = float(decimal.Decimal(random.randrange(15, 40))/100), #random.randint(0.15,0.4),\n",
    "#         recovery_rate = float(decimal.Decimal(random.randrange(10, 30))/100), #random.randint(0.1,0.3),\n",
    "#         complete_recovery_rate = float(decimal.Decimal(random.randrange(1, 250))/1000), #random.randint(0.001,0.25), \n",
    "#         immunity_wearsoff = float(decimal.Decimal(random.randrange(10, 50))/100), #random.randint(0.1,0.5),\n",
    "#         t0 = 0 ,\n",
    "#         t_end = 116,\n",
    "#         dt = 1)\n",
    "    \n",
    "    return frame"
   ]
  },
  {
   "cell_type": "code",
   "execution_count": 6,
   "metadata": {
    "scrolled": true
   },
   "outputs": [
    {
     "data": {
      "text/html": [
       "<div>\n",
       "<style scoped>\n",
       "    .dataframe tbody tr th:only-of-type {\n",
       "        vertical-align: middle;\n",
       "    }\n",
       "\n",
       "    .dataframe tbody tr th {\n",
       "        vertical-align: top;\n",
       "    }\n",
       "\n",
       "    .dataframe thead th {\n",
       "        text-align: right;\n",
       "    }\n",
       "</style>\n",
       "<table border=\"1\" class=\"dataframe\">\n",
       "  <thead>\n",
       "    <tr style=\"text-align: right;\">\n",
       "      <th></th>\n",
       "      <th>s</th>\n",
       "      <th>i</th>\n",
       "      <th>w</th>\n",
       "      <th>r</th>\n",
       "    </tr>\n",
       "  </thead>\n",
       "  <tbody>\n",
       "    <tr>\n",
       "      <th>0.0</th>\n",
       "      <td>355</td>\n",
       "      <td>20</td>\n",
       "      <td>5</td>\n",
       "      <td>5</td>\n",
       "    </tr>\n",
       "    <tr>\n",
       "      <th>1.0</th>\n",
       "      <td>203.825</td>\n",
       "      <td>137.96</td>\n",
       "      <td>43.215</td>\n",
       "      <td>0</td>\n",
       "    </tr>\n",
       "    <tr>\n",
       "      <th>2.0</th>\n",
       "      <td>120.087</td>\n",
       "      <td>187.273</td>\n",
       "      <td>77.6402</td>\n",
       "      <td>0</td>\n",
       "    </tr>\n",
       "    <tr>\n",
       "      <th>3.0</th>\n",
       "      <td>78.4216</td>\n",
       "      <td>208.059</td>\n",
       "      <td>98.5198</td>\n",
       "      <td>0</td>\n",
       "    </tr>\n",
       "    <tr>\n",
       "      <th>4.0</th>\n",
       "      <td>58.2417</td>\n",
       "      <td>217.126</td>\n",
       "      <td>109.633</td>\n",
       "      <td>0</td>\n",
       "    </tr>\n",
       "  </tbody>\n",
       "</table>\n",
       "</div>"
      ],
      "text/plain": [
       "           s        i        w  r\n",
       "0.0      355       20        5  5\n",
       "1.0  203.825   137.96   43.215  0\n",
       "2.0  120.087  187.273  77.6402  0\n",
       "3.0  78.4216  208.059  98.5198  0\n",
       "4.0  58.2417  217.126  109.633  0"
      ]
     },
     "execution_count": 6,
     "metadata": {},
     "output_type": "execute_result"
    }
   ],
   "source": [
    "results = run_simulation(system, update_function)\n",
    "results.head()"
   ]
  },
  {
   "cell_type": "code",
   "execution_count": 7,
   "metadata": {},
   "outputs": [
    {
     "data": {
      "text/plain": [
       "<matplotlib.axes._subplots.AxesSubplot at 0x269ef306c18>"
      ]
     },
     "execution_count": 7,
     "metadata": {},
     "output_type": "execute_result"
    },
    {
     "data": {
      "image/png": "[encoded data removed]",
      "text/plain": [
       "<Figure size 432x288 with 1 Axes>"
      ]
     },
     "metadata": {
      "needs_background": "light"
     },
     "output_type": "display_data"
    }
   ],
   "source": [
    "results.plot()"
   ]
  },
  {
   "cell_type": "code",
   "execution_count": 8,
   "metadata": {},
   "outputs": [],
   "source": [
    "#plot-> 2 types of graphs \n",
    "    #one where I and W are seperate lines and another when they are added together to make the same line\n",
    "    \n",
    "#IF MODEL WORKS\n",
    "    #run links as dataframe for more complex code"
   ]
  },
  {
   "cell_type": "code",
   "execution_count": null,
   "metadata": {},
   "outputs": [],
   "source": []
  }
 ],
 "metadata": {
  "kernelspec": {
   "display_name": "Python 3",
   "language": "python",
   "name": "python3"
  },
  "language_info": {
   "codemirror_mode": {
    "name": "ipython",
    "version": 3
   },
   "file_extension": ".py",
   "mimetype": "text/x-python",
   "name": "python",
   "nbconvert_exporter": "python",
   "pygments_lexer": "ipython3",
   "version": "3.6.6"
  }
 },
 "nbformat": 4,
 "nbformat_minor": 2
}
